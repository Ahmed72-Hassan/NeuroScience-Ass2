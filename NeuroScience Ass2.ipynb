{
 "cells": [
  {
   "cell_type": "code",
   "execution_count": 1,
   "id": "64e72f8f",
   "metadata": {},
   "outputs": [
    {
     "name": "stdout",
     "output_type": "stream",
     "text": [
      "[[0.047 0.053]\n",
      " [0.056 0.005]]\n",
      "[[0.025 0.024]\n",
      " [0.01  0.064]]\n"
     ]
    }
   ],
   "source": [
    "import random\n",
    "import numpy as np\n",
    "\n",
    "input_size = 2\n",
    "hidden_size = 2 \n",
    "num_classes = 2\n",
    "learning_rate = 0.1  \n",
    "\n",
    "Neuron_1 = 0.05\n",
    "Neuron_2 = 0.1\n",
    "\n",
    "Weight_input_hidden = np.random.uniform(0.0, 0.1, (hidden_size, input_size))\n",
    "Weight_input_hidden = np.round(Weight_input_hidden, 3)\n",
    "\n",
    "Weight_hidden_output = np.random.uniform(0.0, 0.1, (num_classes, hidden_size))\n",
    "Weight_hidden_output = np.round(Weight_hidden_output, 3)\n",
    "\n",
    "bias_1 = np.array([0.5, 0.5])\n",
    "bias_2 = np.array([0.7, 0.7])\n",
    "\n",
    "print(Weight_input_hidden)\n",
    "print(Weight_hidden_output)"
   ]
  },
  {
   "cell_type": "code",
   "execution_count": 2,
   "id": "b4852b95",
   "metadata": {},
   "outputs": [],
   "source": [
    "def net(inputs, weights, bias):\n",
    "    net = np.dot(weights, inputs) + bias\n",
    "    return net"
   ]
  },
  {
   "cell_type": "code",
   "execution_count": 3,
   "id": "f4100f3f",
   "metadata": {},
   "outputs": [],
   "source": [
    "def activation(net):\n",
    "    return 2 / (1 + np.exp(-2 * net)) - 1"
   ]
  },
  {
   "cell_type": "code",
   "execution_count": 4,
   "id": "749695a6",
   "metadata": {},
   "outputs": [
    {
     "name": "stdout",
     "output_type": "stream",
     "text": [
      "Hidden layer outputs: [0.46811217 0.46470847]\n"
     ]
    }
   ],
   "source": [
    "inputs = np.array([Neuron_1, Neuron_2])\n",
    "hidden_net = net(inputs, Weight_input_hidden, bias_1)\n",
    "hidden_outputs = activation(hidden_net)\n",
    "print(\"Hidden layer outputs:\", hidden_outputs)"
   ]
  },
  {
   "cell_type": "code",
   "execution_count": 5,
   "id": "0216c144",
   "metadata": {},
   "outputs": [
    {
     "name": "stdout",
     "output_type": "stream",
     "text": [
      "Output layer outputs: [0.61867514 0.62576351]\n"
     ]
    }
   ],
   "source": [
    "output_net = net(hidden_outputs, Weight_hidden_output, bias_2)\n",
    "outputs = activation(output_net)\n",
    "print(\"Output layer outputs:\", outputs)"
   ]
  },
  {
   "cell_type": "code",
   "execution_count": 6,
   "id": "5c49432c",
   "metadata": {},
   "outputs": [
    {
     "name": "stdout",
     "output_type": "stream",
     "text": [
      "Updated Weight_input_hidden:\n",
      " [[0.047  0.0529]\n",
      " [0.056  0.005 ]]\n",
      "Updated Weight_hidden_output:\n",
      " [[0.0074 0.0065]\n",
      " [0.0204 0.0743]]\n"
     ]
    }
   ],
   "source": [
    "target_output = np.array([0.01, 0.99])  \n",
    "\n",
    "error_output = target_output - outputs  \n",
    "\n",
    "derivative_output = 1 - outputs**2  \n",
    "delta_output = error_output * derivative_output  \n",
    "gradient_hidden_output = np.outer(delta_output, hidden_outputs)  \n",
    "\n",
    "derivative_hidden = 1 - hidden_outputs**2  \n",
    "delta_hidden = np.dot(Weight_hidden_output.T, delta_output) * derivative_hidden  \n",
    "gradient_input_hidden = np.outer(delta_hidden, inputs)  \n",
    "\n",
    "Weight_hidden_output += learning_rate * gradient_hidden_output  \n",
    "Weight_hidden_output = np.round(Weight_hidden_output, 4)\n",
    "\n",
    "Weight_input_hidden += learning_rate * gradient_input_hidden\n",
    "Weight_input_hidden = np.round(Weight_input_hidden, 4)\n",
    "\n",
    "# طباعة الأوزان بعد التحديث\n",
    "print(\"Updated Weight_input_hidden:\\n\", Weight_input_hidden)\n",
    "print(\"Updated Weight_hidden_output:\\n\", Weight_hidden_output)"
   ]
  },
  {
   "cell_type": "code",
   "execution_count": null,
   "id": "ba7166b1",
   "metadata": {},
   "outputs": [],
   "source": []
  }
 ],
 "metadata": {
  "kernelspec": {
   "display_name": "Python 3 (ipykernel)",
   "language": "python",
   "name": "python3"
  },
  "language_info": {
   "codemirror_mode": {
    "name": "ipython",
    "version": 3
   },
   "file_extension": ".py",
   "mimetype": "text/x-python",
   "name": "python",
   "nbconvert_exporter": "python",
   "pygments_lexer": "ipython3",
   "version": "3.11.7"
  }
 },
 "nbformat": 4,
 "nbformat_minor": 5
}
